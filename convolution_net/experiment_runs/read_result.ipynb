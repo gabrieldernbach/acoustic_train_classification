{
 "cells": [
  {
   "cell_type": "code",
   "execution_count": 1,
   "metadata": {
    "collapsed": true,
    "pycharm": {
     "is_executing": false
    }
   },
   "outputs": [],
   "source": [
    "from pathlib import Path\n",
    "import pandas as pd\n",
    "files = list(Path.cwd().glob('*.csv'))\n",
    "df = pd.concat([pd.read_csv(f) for f in files], ignore_index=True)\n"
   ]
  },
  {
   "cell_type": "code",
   "execution_count": 2,
   "outputs": [
    {
     "data": {
      "text/plain": "['Unnamed: 0',\n 'tp',\n 'fp',\n 'fn',\n 'tn',\n 'f1pos',\n 'aps',\n 'phase',\n 'target_fs',\n 'frame_length',\n 'hop_length',\n 'mixup',\n 'subset_fraction',\n 'max_epoch',\n 'early_stop_patience',\n 'learning_rate',\n 'cv_iter']"
     },
     "metadata": {},
     "output_type": "execute_result",
     "execution_count": 2
    }
   ],
   "source": [
    "list(df.keys())\n",
    "\n"
   ],
   "metadata": {
    "collapsed": false,
    "pycharm": {
     "name": "#%%\n",
     "is_executing": false
    }
   }
  },
  {
   "cell_type": "code",
   "execution_count": 3,
   "outputs": [
    {
     "data": {
      "text/plain": "    Unnamed: 0   tp   fp   fn   tn     f1pos       aps  phase  target_fs  \\\n0            0   15    9  163  162  0.148515  0.697799  train       8192   \n3            0  185  124   12   19  0.731225  0.742818  train       8192   \n6            0  160   85    8   81  0.774818  0.758222  train       8192   \n9            0   97   51   78  115  0.600619  0.729703  train       8192   \n12           0  157   88   24   71  0.737089  0.766950  train       8192   \n15           0  151   71   28   89  0.753117  0.795673  train       8192   \n18           0  134  118   20   72  0.660099  0.739290  train       8192   \n21           0  136   54   35  112  0.753463  0.794636  train       8192   \n24           0  166   85    0   92  0.796163  0.671060  train       8192   \n27           0  161  101   20   51  0.726862  0.805426  train       8192   \n30           0   93   22   92  135  0.620000  0.810927  train       8192   \n33           0  173  104    0   61  0.768889  0.705379  train       8192   \n36           0  171   95   25   69  0.740260  0.741807  train       8192   \n39           0  166   78    0   93  0.809756  0.758383  train       8192   \n42           0    9   11  167  168  0.091837  0.603025  train       8192   \n\n    frame_length  hop_length  mixup  subset_fraction  max_epoch  \\\n0          16384        8192  0.200             0.02          1   \n3          16384        8192  0.200             0.02          1   \n6          16384        8192  0.001             0.02          1   \n9          16384        8192  0.400             0.02          1   \n12         16384        8192  0.400             0.02          1   \n15         16384        8192  0.001             0.02          1   \n18         16384        8192  0.400             0.02          1   \n21         16384        8192  0.200             0.02          1   \n24         16384        8192  0.001             0.02          1   \n27         16384        8192  0.200             0.02          1   \n30         16384        8192  0.001             0.02          1   \n33         16384        8192  0.200             0.02          1   \n36         16384        8192  0.400             0.02          1   \n39         16384        8192  0.400             0.02          1   \n42         16384        8192  0.001             0.02          1   \n\n    early_stop_patience  learning_rate  cv_iter  \n0                    20           0.01        3  \n3                    20           0.01        2  \n6                    20           0.01        1  \n9                    20           0.01        3  \n12                   20           0.01        4  \n15                   20           0.01        0  \n18                   20           0.01        2  \n21                   20           0.01        0  \n24                   20           0.01        4  \n27                   20           0.01        4  \n30                   20           0.01        3  \n33                   20           0.01        1  \n36                   20           0.01        0  \n39                   20           0.01        1  \n42                   20           0.01        2  ",
      "text/html": "<div>\n<style scoped>\n    .dataframe tbody tr th:only-of-type {\n        vertical-align: middle;\n    }\n\n    .dataframe tbody tr th {\n        vertical-align: top;\n    }\n\n    .dataframe thead th {\n        text-align: right;\n    }\n</style>\n<table border=\"1\" class=\"dataframe\">\n  <thead>\n    <tr style=\"text-align: right;\">\n      <th></th>\n      <th>Unnamed: 0</th>\n      <th>tp</th>\n      <th>fp</th>\n      <th>fn</th>\n      <th>tn</th>\n      <th>f1pos</th>\n      <th>aps</th>\n      <th>phase</th>\n      <th>target_fs</th>\n      <th>frame_length</th>\n      <th>hop_length</th>\n      <th>mixup</th>\n      <th>subset_fraction</th>\n      <th>max_epoch</th>\n      <th>early_stop_patience</th>\n      <th>learning_rate</th>\n      <th>cv_iter</th>\n    </tr>\n  </thead>\n  <tbody>\n    <tr>\n      <th>0</th>\n      <td>0</td>\n      <td>15</td>\n      <td>9</td>\n      <td>163</td>\n      <td>162</td>\n      <td>0.148515</td>\n      <td>0.697799</td>\n      <td>train</td>\n      <td>8192</td>\n      <td>16384</td>\n      <td>8192</td>\n      <td>0.200</td>\n      <td>0.02</td>\n      <td>1</td>\n      <td>20</td>\n      <td>0.01</td>\n      <td>3</td>\n    </tr>\n    <tr>\n      <th>3</th>\n      <td>0</td>\n      <td>185</td>\n      <td>124</td>\n      <td>12</td>\n      <td>19</td>\n      <td>0.731225</td>\n      <td>0.742818</td>\n      <td>train</td>\n      <td>8192</td>\n      <td>16384</td>\n      <td>8192</td>\n      <td>0.200</td>\n      <td>0.02</td>\n      <td>1</td>\n      <td>20</td>\n      <td>0.01</td>\n      <td>2</td>\n    </tr>\n    <tr>\n      <th>6</th>\n      <td>0</td>\n      <td>160</td>\n      <td>85</td>\n      <td>8</td>\n      <td>81</td>\n      <td>0.774818</td>\n      <td>0.758222</td>\n      <td>train</td>\n      <td>8192</td>\n      <td>16384</td>\n      <td>8192</td>\n      <td>0.001</td>\n      <td>0.02</td>\n      <td>1</td>\n      <td>20</td>\n      <td>0.01</td>\n      <td>1</td>\n    </tr>\n    <tr>\n      <th>9</th>\n      <td>0</td>\n      <td>97</td>\n      <td>51</td>\n      <td>78</td>\n      <td>115</td>\n      <td>0.600619</td>\n      <td>0.729703</td>\n      <td>train</td>\n      <td>8192</td>\n      <td>16384</td>\n      <td>8192</td>\n      <td>0.400</td>\n      <td>0.02</td>\n      <td>1</td>\n      <td>20</td>\n      <td>0.01</td>\n      <td>3</td>\n    </tr>\n    <tr>\n      <th>12</th>\n      <td>0</td>\n      <td>157</td>\n      <td>88</td>\n      <td>24</td>\n      <td>71</td>\n      <td>0.737089</td>\n      <td>0.766950</td>\n      <td>train</td>\n      <td>8192</td>\n      <td>16384</td>\n      <td>8192</td>\n      <td>0.400</td>\n      <td>0.02</td>\n      <td>1</td>\n      <td>20</td>\n      <td>0.01</td>\n      <td>4</td>\n    </tr>\n    <tr>\n      <th>15</th>\n      <td>0</td>\n      <td>151</td>\n      <td>71</td>\n      <td>28</td>\n      <td>89</td>\n      <td>0.753117</td>\n      <td>0.795673</td>\n      <td>train</td>\n      <td>8192</td>\n      <td>16384</td>\n      <td>8192</td>\n      <td>0.001</td>\n      <td>0.02</td>\n      <td>1</td>\n      <td>20</td>\n      <td>0.01</td>\n      <td>0</td>\n    </tr>\n    <tr>\n      <th>18</th>\n      <td>0</td>\n      <td>134</td>\n      <td>118</td>\n      <td>20</td>\n      <td>72</td>\n      <td>0.660099</td>\n      <td>0.739290</td>\n      <td>train</td>\n      <td>8192</td>\n      <td>16384</td>\n      <td>8192</td>\n      <td>0.400</td>\n      <td>0.02</td>\n      <td>1</td>\n      <td>20</td>\n      <td>0.01</td>\n      <td>2</td>\n    </tr>\n    <tr>\n      <th>21</th>\n      <td>0</td>\n      <td>136</td>\n      <td>54</td>\n      <td>35</td>\n      <td>112</td>\n      <td>0.753463</td>\n      <td>0.794636</td>\n      <td>train</td>\n      <td>8192</td>\n      <td>16384</td>\n      <td>8192</td>\n      <td>0.200</td>\n      <td>0.02</td>\n      <td>1</td>\n      <td>20</td>\n      <td>0.01</td>\n      <td>0</td>\n    </tr>\n    <tr>\n      <th>24</th>\n      <td>0</td>\n      <td>166</td>\n      <td>85</td>\n      <td>0</td>\n      <td>92</td>\n      <td>0.796163</td>\n      <td>0.671060</td>\n      <td>train</td>\n      <td>8192</td>\n      <td>16384</td>\n      <td>8192</td>\n      <td>0.001</td>\n      <td>0.02</td>\n      <td>1</td>\n      <td>20</td>\n      <td>0.01</td>\n      <td>4</td>\n    </tr>\n    <tr>\n      <th>27</th>\n      <td>0</td>\n      <td>161</td>\n      <td>101</td>\n      <td>20</td>\n      <td>51</td>\n      <td>0.726862</td>\n      <td>0.805426</td>\n      <td>train</td>\n      <td>8192</td>\n      <td>16384</td>\n      <td>8192</td>\n      <td>0.200</td>\n      <td>0.02</td>\n      <td>1</td>\n      <td>20</td>\n      <td>0.01</td>\n      <td>4</td>\n    </tr>\n    <tr>\n      <th>30</th>\n      <td>0</td>\n      <td>93</td>\n      <td>22</td>\n      <td>92</td>\n      <td>135</td>\n      <td>0.620000</td>\n      <td>0.810927</td>\n      <td>train</td>\n      <td>8192</td>\n      <td>16384</td>\n      <td>8192</td>\n      <td>0.001</td>\n      <td>0.02</td>\n      <td>1</td>\n      <td>20</td>\n      <td>0.01</td>\n      <td>3</td>\n    </tr>\n    <tr>\n      <th>33</th>\n      <td>0</td>\n      <td>173</td>\n      <td>104</td>\n      <td>0</td>\n      <td>61</td>\n      <td>0.768889</td>\n      <td>0.705379</td>\n      <td>train</td>\n      <td>8192</td>\n      <td>16384</td>\n      <td>8192</td>\n      <td>0.200</td>\n      <td>0.02</td>\n      <td>1</td>\n      <td>20</td>\n      <td>0.01</td>\n      <td>1</td>\n    </tr>\n    <tr>\n      <th>36</th>\n      <td>0</td>\n      <td>171</td>\n      <td>95</td>\n      <td>25</td>\n      <td>69</td>\n      <td>0.740260</td>\n      <td>0.741807</td>\n      <td>train</td>\n      <td>8192</td>\n      <td>16384</td>\n      <td>8192</td>\n      <td>0.400</td>\n      <td>0.02</td>\n      <td>1</td>\n      <td>20</td>\n      <td>0.01</td>\n      <td>0</td>\n    </tr>\n    <tr>\n      <th>39</th>\n      <td>0</td>\n      <td>166</td>\n      <td>78</td>\n      <td>0</td>\n      <td>93</td>\n      <td>0.809756</td>\n      <td>0.758383</td>\n      <td>train</td>\n      <td>8192</td>\n      <td>16384</td>\n      <td>8192</td>\n      <td>0.400</td>\n      <td>0.02</td>\n      <td>1</td>\n      <td>20</td>\n      <td>0.01</td>\n      <td>1</td>\n    </tr>\n    <tr>\n      <th>42</th>\n      <td>0</td>\n      <td>9</td>\n      <td>11</td>\n      <td>167</td>\n      <td>168</td>\n      <td>0.091837</td>\n      <td>0.603025</td>\n      <td>train</td>\n      <td>8192</td>\n      <td>16384</td>\n      <td>8192</td>\n      <td>0.001</td>\n      <td>0.02</td>\n      <td>1</td>\n      <td>20</td>\n      <td>0.01</td>\n      <td>2</td>\n    </tr>\n  </tbody>\n</table>\n</div>"
     },
     "metadata": {},
     "output_type": "execute_result",
     "execution_count": 3
    }
   ],
   "source": [
    "df[df['phase'] == 'train']\n"
   ],
   "metadata": {
    "collapsed": false,
    "pycharm": {
     "name": "#%%\n",
     "is_executing": false
    }
   }
  },
  {
   "cell_type": "code",
   "execution_count": 6,
   "outputs": [
    {
     "data": {
      "text/plain": "    Unnamed: 0  tp  fp  fn  tn     f1pos       aps phase  target_fs  \\\n2            2   0  10   8  97  0.000000  0.076537  test       8192   \n44           2   0   9   7  99  0.000000  0.100575  test       8192   \n5            2   6  97   0  12  0.110092  0.212634  test       8192   \n41           2   4  54   3  50  0.123077  0.099238  test       8192   \n17           2   3  34   3  81  0.139535  0.114559  test       8192   \n29           2   6  69   0  49  0.148148  0.161249  test       8192   \n14           2   6  54   1  56  0.179104  0.182902  test       8192   \n38           2   7  61   0  34  0.186667  0.142607  test       8192   \n35           2   9  78   0  34  0.187500  0.321985  test       8192   \n8            2   9  61   0  45  0.227848  0.452205  test       8192   \n26           2   9  40   1  58  0.305085  0.361308  test       8192   \n20           2  10  44   0  50  0.312500  0.247227  test       8192   \n23           2   9  34   0  64  0.346154  0.280895  test       8192   \n11           2   6  21   1  68  0.352941  0.171217  test       8192   \n32           2   7   9   5  90  0.500000  0.616675  test       8192   \n\n    frame_length  hop_length  mixup  subset_fraction  max_epoch  \\\n2          16384        8192  0.200             0.02          1   \n44         16384        8192  0.001             0.02          1   \n5          16384        8192  0.200             0.02          1   \n41         16384        8192  0.400             0.02          1   \n17         16384        8192  0.001             0.02          1   \n29         16384        8192  0.200             0.02          1   \n14         16384        8192  0.400             0.02          1   \n38         16384        8192  0.400             0.02          1   \n35         16384        8192  0.200             0.02          1   \n8          16384        8192  0.001             0.02          1   \n26         16384        8192  0.001             0.02          1   \n20         16384        8192  0.400             0.02          1   \n23         16384        8192  0.200             0.02          1   \n11         16384        8192  0.400             0.02          1   \n32         16384        8192  0.001             0.02          1   \n\n    early_stop_patience  learning_rate  cv_iter  \n2                    20           0.01        3  \n44                   20           0.01        2  \n5                    20           0.01        2  \n41                   20           0.01        1  \n17                   20           0.01        0  \n29                   20           0.01        4  \n14                   20           0.01        4  \n38                   20           0.01        0  \n35                   20           0.01        1  \n8                    20           0.01        1  \n26                   20           0.01        4  \n20                   20           0.01        2  \n23                   20           0.01        0  \n11                   20           0.01        3  \n32                   20           0.01        3  ",
      "text/html": "<div>\n<style scoped>\n    .dataframe tbody tr th:only-of-type {\n        vertical-align: middle;\n    }\n\n    .dataframe tbody tr th {\n        vertical-align: top;\n    }\n\n    .dataframe thead th {\n        text-align: right;\n    }\n</style>\n<table border=\"1\" class=\"dataframe\">\n  <thead>\n    <tr style=\"text-align: right;\">\n      <th></th>\n      <th>Unnamed: 0</th>\n      <th>tp</th>\n      <th>fp</th>\n      <th>fn</th>\n      <th>tn</th>\n      <th>f1pos</th>\n      <th>aps</th>\n      <th>phase</th>\n      <th>target_fs</th>\n      <th>frame_length</th>\n      <th>hop_length</th>\n      <th>mixup</th>\n      <th>subset_fraction</th>\n      <th>max_epoch</th>\n      <th>early_stop_patience</th>\n      <th>learning_rate</th>\n      <th>cv_iter</th>\n    </tr>\n  </thead>\n  <tbody>\n    <tr>\n      <th>2</th>\n      <td>2</td>\n      <td>0</td>\n      <td>10</td>\n      <td>8</td>\n      <td>97</td>\n      <td>0.000000</td>\n      <td>0.076537</td>\n      <td>test</td>\n      <td>8192</td>\n      <td>16384</td>\n      <td>8192</td>\n      <td>0.200</td>\n      <td>0.02</td>\n      <td>1</td>\n      <td>20</td>\n      <td>0.01</td>\n      <td>3</td>\n    </tr>\n    <tr>\n      <th>44</th>\n      <td>2</td>\n      <td>0</td>\n      <td>9</td>\n      <td>7</td>\n      <td>99</td>\n      <td>0.000000</td>\n      <td>0.100575</td>\n      <td>test</td>\n      <td>8192</td>\n      <td>16384</td>\n      <td>8192</td>\n      <td>0.001</td>\n      <td>0.02</td>\n      <td>1</td>\n      <td>20</td>\n      <td>0.01</td>\n      <td>2</td>\n    </tr>\n    <tr>\n      <th>5</th>\n      <td>2</td>\n      <td>6</td>\n      <td>97</td>\n      <td>0</td>\n      <td>12</td>\n      <td>0.110092</td>\n      <td>0.212634</td>\n      <td>test</td>\n      <td>8192</td>\n      <td>16384</td>\n      <td>8192</td>\n      <td>0.200</td>\n      <td>0.02</td>\n      <td>1</td>\n      <td>20</td>\n      <td>0.01</td>\n      <td>2</td>\n    </tr>\n    <tr>\n      <th>41</th>\n      <td>2</td>\n      <td>4</td>\n      <td>54</td>\n      <td>3</td>\n      <td>50</td>\n      <td>0.123077</td>\n      <td>0.099238</td>\n      <td>test</td>\n      <td>8192</td>\n      <td>16384</td>\n      <td>8192</td>\n      <td>0.400</td>\n      <td>0.02</td>\n      <td>1</td>\n      <td>20</td>\n      <td>0.01</td>\n      <td>1</td>\n    </tr>\n    <tr>\n      <th>17</th>\n      <td>2</td>\n      <td>3</td>\n      <td>34</td>\n      <td>3</td>\n      <td>81</td>\n      <td>0.139535</td>\n      <td>0.114559</td>\n      <td>test</td>\n      <td>8192</td>\n      <td>16384</td>\n      <td>8192</td>\n      <td>0.001</td>\n      <td>0.02</td>\n      <td>1</td>\n      <td>20</td>\n      <td>0.01</td>\n      <td>0</td>\n    </tr>\n    <tr>\n      <th>29</th>\n      <td>2</td>\n      <td>6</td>\n      <td>69</td>\n      <td>0</td>\n      <td>49</td>\n      <td>0.148148</td>\n      <td>0.161249</td>\n      <td>test</td>\n      <td>8192</td>\n      <td>16384</td>\n      <td>8192</td>\n      <td>0.200</td>\n      <td>0.02</td>\n      <td>1</td>\n      <td>20</td>\n      <td>0.01</td>\n      <td>4</td>\n    </tr>\n    <tr>\n      <th>14</th>\n      <td>2</td>\n      <td>6</td>\n      <td>54</td>\n      <td>1</td>\n      <td>56</td>\n      <td>0.179104</td>\n      <td>0.182902</td>\n      <td>test</td>\n      <td>8192</td>\n      <td>16384</td>\n      <td>8192</td>\n      <td>0.400</td>\n      <td>0.02</td>\n      <td>1</td>\n      <td>20</td>\n      <td>0.01</td>\n      <td>4</td>\n    </tr>\n    <tr>\n      <th>38</th>\n      <td>2</td>\n      <td>7</td>\n      <td>61</td>\n      <td>0</td>\n      <td>34</td>\n      <td>0.186667</td>\n      <td>0.142607</td>\n      <td>test</td>\n      <td>8192</td>\n      <td>16384</td>\n      <td>8192</td>\n      <td>0.400</td>\n      <td>0.02</td>\n      <td>1</td>\n      <td>20</td>\n      <td>0.01</td>\n      <td>0</td>\n    </tr>\n    <tr>\n      <th>35</th>\n      <td>2</td>\n      <td>9</td>\n      <td>78</td>\n      <td>0</td>\n      <td>34</td>\n      <td>0.187500</td>\n      <td>0.321985</td>\n      <td>test</td>\n      <td>8192</td>\n      <td>16384</td>\n      <td>8192</td>\n      <td>0.200</td>\n      <td>0.02</td>\n      <td>1</td>\n      <td>20</td>\n      <td>0.01</td>\n      <td>1</td>\n    </tr>\n    <tr>\n      <th>8</th>\n      <td>2</td>\n      <td>9</td>\n      <td>61</td>\n      <td>0</td>\n      <td>45</td>\n      <td>0.227848</td>\n      <td>0.452205</td>\n      <td>test</td>\n      <td>8192</td>\n      <td>16384</td>\n      <td>8192</td>\n      <td>0.001</td>\n      <td>0.02</td>\n      <td>1</td>\n      <td>20</td>\n      <td>0.01</td>\n      <td>1</td>\n    </tr>\n    <tr>\n      <th>26</th>\n      <td>2</td>\n      <td>9</td>\n      <td>40</td>\n      <td>1</td>\n      <td>58</td>\n      <td>0.305085</td>\n      <td>0.361308</td>\n      <td>test</td>\n      <td>8192</td>\n      <td>16384</td>\n      <td>8192</td>\n      <td>0.001</td>\n      <td>0.02</td>\n      <td>1</td>\n      <td>20</td>\n      <td>0.01</td>\n      <td>4</td>\n    </tr>\n    <tr>\n      <th>20</th>\n      <td>2</td>\n      <td>10</td>\n      <td>44</td>\n      <td>0</td>\n      <td>50</td>\n      <td>0.312500</td>\n      <td>0.247227</td>\n      <td>test</td>\n      <td>8192</td>\n      <td>16384</td>\n      <td>8192</td>\n      <td>0.400</td>\n      <td>0.02</td>\n      <td>1</td>\n      <td>20</td>\n      <td>0.01</td>\n      <td>2</td>\n    </tr>\n    <tr>\n      <th>23</th>\n      <td>2</td>\n      <td>9</td>\n      <td>34</td>\n      <td>0</td>\n      <td>64</td>\n      <td>0.346154</td>\n      <td>0.280895</td>\n      <td>test</td>\n      <td>8192</td>\n      <td>16384</td>\n      <td>8192</td>\n      <td>0.200</td>\n      <td>0.02</td>\n      <td>1</td>\n      <td>20</td>\n      <td>0.01</td>\n      <td>0</td>\n    </tr>\n    <tr>\n      <th>11</th>\n      <td>2</td>\n      <td>6</td>\n      <td>21</td>\n      <td>1</td>\n      <td>68</td>\n      <td>0.352941</td>\n      <td>0.171217</td>\n      <td>test</td>\n      <td>8192</td>\n      <td>16384</td>\n      <td>8192</td>\n      <td>0.400</td>\n      <td>0.02</td>\n      <td>1</td>\n      <td>20</td>\n      <td>0.01</td>\n      <td>3</td>\n    </tr>\n    <tr>\n      <th>32</th>\n      <td>2</td>\n      <td>7</td>\n      <td>9</td>\n      <td>5</td>\n      <td>90</td>\n      <td>0.500000</td>\n      <td>0.616675</td>\n      <td>test</td>\n      <td>8192</td>\n      <td>16384</td>\n      <td>8192</td>\n      <td>0.001</td>\n      <td>0.02</td>\n      <td>1</td>\n      <td>20</td>\n      <td>0.01</td>\n      <td>3</td>\n    </tr>\n  </tbody>\n</table>\n</div>"
     },
     "metadata": {},
     "output_type": "execute_result",
     "execution_count": 6
    }
   ],
   "source": [
    "df[df['phase'] == 'test'].sort_values(by=['f1pos'])"
   ],
   "metadata": {
    "collapsed": false,
    "pycharm": {
     "name": "#%%\n",
     "is_executing": false
    }
   }
  },
  {
   "cell_type": "code",
   "execution_count": null,
   "outputs": [],
   "source": [],
   "metadata": {
    "collapsed": false,
    "pycharm": {
     "name": "#%%\n"
    }
   }
  }
 ],
 "metadata": {
  "kernelspec": {
   "display_name": "Python 3",
   "language": "python",
   "name": "python3"
  },
  "language_info": {
   "codemirror_mode": {
    "name": "ipython",
    "version": 2
   },
   "file_extension": ".py",
   "mimetype": "text/x-python",
   "name": "python",
   "nbconvert_exporter": "python",
   "pygments_lexer": "ipython2",
   "version": "2.7.6"
  },
  "pycharm": {
   "stem_cell": {
    "cell_type": "raw",
    "source": [],
    "metadata": {
     "collapsed": false
    }
   }
  }
 },
 "nbformat": 4,
 "nbformat_minor": 0
}